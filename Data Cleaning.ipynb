{
 "cells": [
  {
   "cell_type": "markdown",
   "id": "7856792b",
   "metadata": {},
   "source": [
    "# Introduction\n",
    "\n",
    "In this notebook, we are going to clean a real-world dataset together.\n",
    "\n",
    "The dataset consists of scraped salad-related data that needs cleaning before it can be used for analysis.  \n",
    "We will go through the data cleaning process step by step, sharing the mindset and reasoning behind each decision we make along the way.\n",
    "\n",
    "The main goal is to prepare the dataset for future tasks, such as exploration, visualization, or modeling.\n",
    "\n",
    "**Prerequisites:**\n",
    "\n",
    "- Intermediate Python knowledge  \n",
    "- Prior experience with Python libraries such as **Pandas** and **NumPy**\n",
    "\n",
    "📺 For a full walkthrough of the cleaning process with detailed explanations, I’ve made a [YouTube video](https://www.youtube.com/channel/UChd_ESjPkUx1r7nY8b8rLGA) accompanying this notebook.\n"
   ]
  },
  {
   "cell_type": "code",
   "execution_count": 226,
   "id": "167cafc6",
   "metadata": {},
   "outputs": [],
   "source": [
    "#importing the necessary libraries\n",
    "import pandas as pd\n",
    "import numpy as np"
   ]
  },
  {
   "cell_type": "markdown",
   "id": "89a6bbde",
   "metadata": {},
   "source": [
    "### let's import and check the five few rows of our data"
   ]
  },
  {
   "cell_type": "code",
   "execution_count": 227,
   "id": "11085963",
   "metadata": {},
   "outputs": [
    {
     "data": {
      "text/html": [
       "<div>\n",
       "<style scoped>\n",
       "    .dataframe tbody tr th:only-of-type {\n",
       "        vertical-align: middle;\n",
       "    }\n",
       "\n",
       "    .dataframe tbody tr th {\n",
       "        vertical-align: top;\n",
       "    }\n",
       "\n",
       "    .dataframe thead th {\n",
       "        text-align: right;\n",
       "    }\n",
       "</style>\n",
       "<table border=\"1\" class=\"dataframe\">\n",
       "  <thead>\n",
       "    <tr style=\"text-align: right;\">\n",
       "      <th></th>\n",
       "      <th>salad_title</th>\n",
       "      <th>prep_time</th>\n",
       "      <th>n_star</th>\n",
       "      <th>n_review</th>\n",
       "      <th>Calories</th>\n",
       "      <th>Total Fat</th>\n",
       "      <th>Saturated Fat</th>\n",
       "      <th>Carbohydrates</th>\n",
       "      <th>Dietary Fiber</th>\n",
       "      <th>Sugar</th>\n",
       "      <th>Protein</th>\n",
       "      <th>Cholesterol</th>\n",
       "      <th>Sodium</th>\n",
       "    </tr>\n",
       "  </thead>\n",
       "  <tbody>\n",
       "    <tr>\n",
       "      <th>0</th>\n",
       "      <td>Antipasto Salad</td>\n",
       "      <td>35 minutes</td>\n",
       "      <td>5 of 5 stars</td>\n",
       "      <td>190 Reviews</td>\n",
       "      <td>['647 ']</td>\n",
       "      <td>['37 g']</td>\n",
       "      <td>['8 g']</td>\n",
       "      <td>['58 g']</td>\n",
       "      <td>['3 g']</td>\n",
       "      <td>['2 g']</td>\n",
       "      <td>['20 g']</td>\n",
       "      <td>['34 mg']</td>\n",
       "      <td>['433 mg']</td>\n",
       "    </tr>\n",
       "    <tr>\n",
       "      <th>1</th>\n",
       "      <td>Shrimp Salad</td>\n",
       "      <td>30 minutes</td>\n",
       "      <td>5 of 5 stars</td>\n",
       "      <td>175 Reviews</td>\n",
       "      <td>['407 ']</td>\n",
       "      <td>['31 g']</td>\n",
       "      <td>['5 g']</td>\n",
       "      <td>['2 g']</td>\n",
       "      <td>['1 g']</td>\n",
       "      <td>['1 g']</td>\n",
       "      <td>['31 g']</td>\n",
       "      <td>['258 mg']</td>\n",
       "      <td>['536 mg']</td>\n",
       "    </tr>\n",
       "    <tr>\n",
       "      <th>2</th>\n",
       "      <td>Chicken Salad</td>\n",
       "      <td>30 minutes</td>\n",
       "      <td>4.5 of 5 stars</td>\n",
       "      <td>277 Reviews</td>\n",
       "      <td>['1134 ']</td>\n",
       "      <td>['80 g']</td>\n",
       "      <td>['17 g']</td>\n",
       "      <td>['19 g']</td>\n",
       "      <td>['2 g']</td>\n",
       "      <td>['7 g']</td>\n",
       "      <td>['80 g']</td>\n",
       "      <td>['250 mg']</td>\n",
       "      <td>['1870 mg']</td>\n",
       "    </tr>\n",
       "    <tr>\n",
       "      <th>3</th>\n",
       "      <td>Broccoli Salad</td>\n",
       "      <td>1 hour 15 minutes</td>\n",
       "      <td>5 of 5 stars</td>\n",
       "      <td>170 Reviews</td>\n",
       "      <td>['316 ']</td>\n",
       "      <td>['27 g']</td>\n",
       "      <td>['6 g']</td>\n",
       "      <td>['16 g']</td>\n",
       "      <td>['0 g']</td>\n",
       "      <td>['12 g']</td>\n",
       "      <td>['4 g']</td>\n",
       "      <td>['24 mg']</td>\n",
       "      <td>['292 mg']</td>\n",
       "    </tr>\n",
       "    <tr>\n",
       "      <th>4</th>\n",
       "      <td>Cafe Green Salad</td>\n",
       "      <td>10 minutes</td>\n",
       "      <td>5 of 5 stars</td>\n",
       "      <td>297 Reviews</td>\n",
       "      <td>['10 grams ']</td>\n",
       "      <td>['1.5 grams ']</td>\n",
       "      <td>['0 milligrams ']</td>\n",
       "      <td>['156 milligrams ']</td>\n",
       "      <td>['2 grams ']</td>\n",
       "      <td>['1 grams ']</td>\n",
       "      <td>['1 grams ']</td>\n",
       "      <td>['1 grams ']</td>\n",
       "      <td>['103 calorie ']</td>\n",
       "    </tr>\n",
       "  </tbody>\n",
       "</table>\n",
       "</div>"
      ],
      "text/plain": [
       "        salad_title          prep_time          n_star     n_review  \\\n",
       "0   Antipasto Salad         35 minutes    5 of 5 stars  190 Reviews   \n",
       "1      Shrimp Salad         30 minutes    5 of 5 stars  175 Reviews   \n",
       "2     Chicken Salad         30 minutes  4.5 of 5 stars  277 Reviews   \n",
       "3    Broccoli Salad  1 hour 15 minutes    5 of 5 stars  170 Reviews   \n",
       "4  Cafe Green Salad         10 minutes    5 of 5 stars  297 Reviews   \n",
       "\n",
       "        Calories       Total Fat      Saturated Fat        Carbohydrates  \\\n",
       "0       ['647 ']        ['37 g']            ['8 g']             ['58 g']   \n",
       "1       ['407 ']        ['31 g']            ['5 g']              ['2 g']   \n",
       "2      ['1134 ']        ['80 g']           ['17 g']             ['19 g']   \n",
       "3       ['316 ']        ['27 g']            ['6 g']             ['16 g']   \n",
       "4  ['10 grams ']  ['1.5 grams ']  ['0 milligrams ']  ['156 milligrams ']   \n",
       "\n",
       "  Dietary Fiber         Sugar       Protein   Cholesterol            Sodium  \n",
       "0       ['3 g']       ['2 g']      ['20 g']     ['34 mg']        ['433 mg']  \n",
       "1       ['1 g']       ['1 g']      ['31 g']    ['258 mg']        ['536 mg']  \n",
       "2       ['2 g']       ['7 g']      ['80 g']    ['250 mg']       ['1870 mg']  \n",
       "3       ['0 g']      ['12 g']       ['4 g']     ['24 mg']        ['292 mg']  \n",
       "4  ['2 grams ']  ['1 grams ']  ['1 grams ']  ['1 grams ']  ['103 calorie ']  "
      ]
     },
     "execution_count": 227,
     "metadata": {},
     "output_type": "execute_result"
    }
   ],
   "source": [
    "data = pd.read_csv('messy_salad_data.csv')\n",
    "data.head()"
   ]
  },
  {
   "cell_type": "code",
   "execution_count": 228,
   "id": "95b31ef5",
   "metadata": {},
   "outputs": [
    {
     "name": "stdout",
     "output_type": "stream",
     "text": [
      "<class 'pandas.core.frame.DataFrame'>\n",
      "RangeIndex: 230 entries, 0 to 229\n",
      "Data columns (total 13 columns):\n",
      " #   Column         Non-Null Count  Dtype \n",
      "---  ------         --------------  ----- \n",
      " 0   salad_title    230 non-null    object\n",
      " 1   prep_time      230 non-null    object\n",
      " 2   n_star         230 non-null    object\n",
      " 3   n_review       230 non-null    object\n",
      " 4   Calories       220 non-null    object\n",
      " 5   Total Fat      220 non-null    object\n",
      " 6   Saturated Fat  220 non-null    object\n",
      " 7   Carbohydrates  220 non-null    object\n",
      " 8   Dietary Fiber  220 non-null    object\n",
      " 9   Sugar          220 non-null    object\n",
      " 10  Protein        220 non-null    object\n",
      " 11  Cholesterol    220 non-null    object\n",
      " 12  Sodium         220 non-null    object\n",
      "dtypes: object(13)\n",
      "memory usage: 23.5+ KB\n"
     ]
    }
   ],
   "source": [
    "data.info()"
   ]
  },
  {
   "cell_type": "markdown",
   "id": "f3a4ae3b",
   "metadata": {},
   "source": [
    "We need to fix the data types and handle the missing values."
   ]
  },
  {
   "cell_type": "markdown",
   "id": "aed2e563",
   "metadata": {},
   "source": [
    "### Dealing with the Preparation Time Column"
   ]
  },
  {
   "cell_type": "code",
   "execution_count": 229,
   "id": "c8bea1d5",
   "metadata": {},
   "outputs": [
    {
     "data": {
      "text/plain": [
       "0              35 minutes\n",
       "1              30 minutes\n",
       "2              30 minutes\n",
       "3       1 hour 15 minutes\n",
       "4              10 minutes\n",
       "              ...        \n",
       "225            30 minutes\n",
       "226    6 hours 10 minutes\n",
       "227            10 minutes\n",
       "228            15 minutes\n",
       "229            10 minutes\n",
       "Name: prep_time, Length: 230, dtype: object"
      ]
     },
     "execution_count": 229,
     "metadata": {},
     "output_type": "execute_result"
    }
   ],
   "source": [
    "data.prep_time"
   ]
  },
  {
   "cell_type": "code",
   "execution_count": 230,
   "id": "773c2ab4",
   "metadata": {},
   "outputs": [
    {
     "name": "stdout",
     "output_type": "stream",
     "text": [
      "1 hour\n",
      "4 hours\n",
      "1 hour\n",
      "Unknown\n",
      "Unknown\n",
      "1 hour\n",
      "Unknown\n",
      "3 hours\n",
      "1 hour\n",
      "Unknown\n",
      "1 hour\n",
      "1 hour\n",
      "1 hour\n",
      "Unknown\n",
      "Unknown\n",
      "1 hour\n",
      "Unknown\n",
      "Unknown\n"
     ]
    }
   ],
   "source": [
    "for a in data.prep_time:\n",
    "    if 'm' not in a:\n",
    "        print(a)"
   ]
  },
  {
   "cell_type": "markdown",
   "id": "b64f01e5",
   "metadata": {},
   "source": [
    "As we can see here, we also have unknown values. We need to create a function that can handle all of them and convert the entire column into minutes."
   ]
  },
  {
   "cell_type": "code",
   "execution_count": 231,
   "id": "39e4e198",
   "metadata": {},
   "outputs": [],
   "source": [
    "def duration_to_minutes(sample):\n",
    "    if sample.lower() =='unknown':\n",
    "        return 0\n",
    "    total_minutes = 0\n",
    "    parts = sample.split()\n",
    "    \n",
    "    if len(parts) ==2 and  'h' in parts[1].lower():\n",
    "        total_minutes += int(parts[0]) * 60\n",
    "    elif len(parts) ==2 and  'm' in parts[1].lower():\n",
    "        total_minutes += int(parts[0]) \n",
    "    elif len(parts)==4 and ('h' in parts[1] and 'm' in parts[3]):\n",
    "        total_minutes += int(parts[0])*60 + int(parts[2])\n",
    "    else:\n",
    "        total_minutes\n",
    "    return total_minutes"
   ]
  },
  {
   "cell_type": "code",
   "execution_count": 232,
   "id": "f0eb7180",
   "metadata": {},
   "outputs": [],
   "source": [
    "data['prep_time'] = data['prep_time'].apply(duration_to_minutes)\n",
    "data['prep_time'] = data['prep_time'].astype('int')"
   ]
  },
  {
   "cell_type": "code",
   "execution_count": 233,
   "id": "d598a4d1",
   "metadata": {},
   "outputs": [
    {
     "data": {
      "text/plain": [
       "0"
      ]
     },
     "execution_count": 233,
     "metadata": {},
     "output_type": "execute_result"
    }
   ],
   "source": [
    "data['prep_time'].isnull().sum()"
   ]
  },
  {
   "cell_type": "markdown",
   "id": "50708307",
   "metadata": {},
   "source": [
    "know we have fixed the prep_time column"
   ]
  },
  {
   "cell_type": "code",
   "execution_count": 234,
   "id": "ed6386eb",
   "metadata": {},
   "outputs": [
    {
     "data": {
      "text/html": [
       "<div>\n",
       "<style scoped>\n",
       "    .dataframe tbody tr th:only-of-type {\n",
       "        vertical-align: middle;\n",
       "    }\n",
       "\n",
       "    .dataframe tbody tr th {\n",
       "        vertical-align: top;\n",
       "    }\n",
       "\n",
       "    .dataframe thead th {\n",
       "        text-align: right;\n",
       "    }\n",
       "</style>\n",
       "<table border=\"1\" class=\"dataframe\">\n",
       "  <thead>\n",
       "    <tr style=\"text-align: right;\">\n",
       "      <th></th>\n",
       "      <th>salad_title</th>\n",
       "      <th>prep_time</th>\n",
       "      <th>n_star</th>\n",
       "      <th>n_review</th>\n",
       "      <th>Calories</th>\n",
       "      <th>Total Fat</th>\n",
       "      <th>Saturated Fat</th>\n",
       "      <th>Carbohydrates</th>\n",
       "      <th>Dietary Fiber</th>\n",
       "      <th>Sugar</th>\n",
       "      <th>Protein</th>\n",
       "      <th>Cholesterol</th>\n",
       "      <th>Sodium</th>\n",
       "    </tr>\n",
       "  </thead>\n",
       "  <tbody>\n",
       "    <tr>\n",
       "      <th>0</th>\n",
       "      <td>Antipasto Salad</td>\n",
       "      <td>35</td>\n",
       "      <td>5 of 5 stars</td>\n",
       "      <td>190 Reviews</td>\n",
       "      <td>['647 ']</td>\n",
       "      <td>['37 g']</td>\n",
       "      <td>['8 g']</td>\n",
       "      <td>['58 g']</td>\n",
       "      <td>['3 g']</td>\n",
       "      <td>['2 g']</td>\n",
       "      <td>['20 g']</td>\n",
       "      <td>['34 mg']</td>\n",
       "      <td>['433 mg']</td>\n",
       "    </tr>\n",
       "  </tbody>\n",
       "</table>\n",
       "</div>"
      ],
      "text/plain": [
       "       salad_title  prep_time        n_star     n_review  Calories Total Fat  \\\n",
       "0  Antipasto Salad         35  5 of 5 stars  190 Reviews  ['647 ']  ['37 g']   \n",
       "\n",
       "  Saturated Fat Carbohydrates Dietary Fiber    Sugar   Protein Cholesterol  \\\n",
       "0       ['8 g']      ['58 g']       ['3 g']  ['2 g']  ['20 g']   ['34 mg']   \n",
       "\n",
       "       Sodium  \n",
       "0  ['433 mg']  "
      ]
     },
     "execution_count": 234,
     "metadata": {},
     "output_type": "execute_result"
    }
   ],
   "source": [
    "data.head(1)"
   ]
  },
  {
   "cell_type": "markdown",
   "id": "798c8eed",
   "metadata": {},
   "source": [
    "now let's fix the star and review columns"
   ]
  },
  {
   "cell_type": "code",
   "execution_count": 235,
   "id": "b9148801",
   "metadata": {},
   "outputs": [
    {
     "name": "stdout",
     "output_type": "stream",
     "text": [
      "Unknown\n",
      "Unknown\n",
      "Unknown\n"
     ]
    }
   ],
   "source": [
    "for a in data.n_star:\n",
    "    if 's' not in a:\n",
    "        print(a)"
   ]
  },
  {
   "cell_type": "code",
   "execution_count": 236,
   "id": "70af0813",
   "metadata": {},
   "outputs": [
    {
     "name": "stdout",
     "output_type": "stream",
     "text": [
      "no review info\n",
      "no review info\n",
      "no review info\n"
     ]
    }
   ],
   "source": [
    "for a in data.n_review:\n",
    "    if 'R' not in a:\n",
    "        print(a)"
   ]
  },
  {
   "cell_type": "code",
   "execution_count": 237,
   "id": "7da1daab",
   "metadata": {},
   "outputs": [],
   "source": [
    "# let's create a function that handles both cases\n",
    "def extracting_num(sample):\n",
    "    parts = sample.split()\n",
    "    if parts[0].lower() in {\"unknown\", \"no\"}:\n",
    "        return None\n",
    "    else:\n",
    "        value = parts[0]\n",
    "    return value"
   ]
  },
  {
   "cell_type": "code",
   "execution_count": 238,
   "id": "8943679e",
   "metadata": {},
   "outputs": [],
   "source": [
    "data['n_star'] = data['n_star'].apply(extracting_num)\n",
    "data['n_review'] = data['n_review'].apply(extracting_num)"
   ]
  },
  {
   "cell_type": "code",
   "execution_count": 239,
   "id": "0018879f",
   "metadata": {},
   "outputs": [
    {
     "name": "stdout",
     "output_type": "stream",
     "text": [
      "    salad_title  prep_time n_star n_review Calories Total Fat Saturated Fat  \\\n",
      "62      Unknown          0   None     None      NaN       NaN           NaN   \n",
      "183     Unknown          0   None     None      NaN       NaN           NaN   \n",
      "211     Unknown          0   None     None      NaN       NaN           NaN   \n",
      "\n",
      "    Carbohydrates Dietary Fiber Sugar Protein Cholesterol Sodium  \n",
      "62            NaN           NaN   NaN     NaN         NaN    NaN  \n",
      "183           NaN           NaN   NaN     NaN         NaN    NaN  \n",
      "211           NaN           NaN   NaN     NaN         NaN    NaN  \n",
      "    salad_title  prep_time n_star n_review Calories Total Fat Saturated Fat  \\\n",
      "62      Unknown          0   None     None      NaN       NaN           NaN   \n",
      "183     Unknown          0   None     None      NaN       NaN           NaN   \n",
      "211     Unknown          0   None     None      NaN       NaN           NaN   \n",
      "\n",
      "    Carbohydrates Dietary Fiber Sugar Protein Cholesterol Sodium  \n",
      "62            NaN           NaN   NaN     NaN         NaN    NaN  \n",
      "183           NaN           NaN   NaN     NaN         NaN    NaN  \n",
      "211           NaN           NaN   NaN     NaN         NaN    NaN  \n"
     ]
    }
   ],
   "source": [
    "print(data[data['n_star'].isna()]),\n",
    "print(data[data['n_review'].isnull()])"
   ]
  },
  {
   "cell_type": "markdown",
   "id": "46871063",
   "metadata": {},
   "source": [
    "as we can see here, we have NaN values, in this case, we are going to delete them because\n",
    "the entire rows are missing."
   ]
  },
  {
   "cell_type": "code",
   "execution_count": 240,
   "id": "1d8ed87a",
   "metadata": {},
   "outputs": [],
   "source": [
    "data.dropna(subset=['n_star', 'n_review'], inplace=True)"
   ]
  },
  {
   "cell_type": "code",
   "execution_count": 241,
   "id": "2559db1b",
   "metadata": {},
   "outputs": [
    {
     "name": "stdout",
     "output_type": "stream",
     "text": [
      "Empty DataFrame\n",
      "Columns: [salad_title, prep_time, n_star, n_review, Calories, Total Fat, Saturated Fat, Carbohydrates, Dietary Fiber, Sugar, Protein, Cholesterol, Sodium]\n",
      "Index: []\n",
      "Empty DataFrame\n",
      "Columns: [salad_title, prep_time, n_star, n_review, Calories, Total Fat, Saturated Fat, Carbohydrates, Dietary Fiber, Sugar, Protein, Cholesterol, Sodium]\n",
      "Index: []\n"
     ]
    }
   ],
   "source": [
    "print(data[data['n_star'].isna()]),\n",
    "print(data[data['n_review'].isnull()])"
   ]
  },
  {
   "cell_type": "code",
   "execution_count": 242,
   "id": "565ace22",
   "metadata": {},
   "outputs": [],
   "source": [
    "# fixing the data type\n",
    "data['n_review'] = data['n_review'].astype('int')\n",
    "data['n_star'] = data['n_star'].astype('float')"
   ]
  },
  {
   "cell_type": "code",
   "execution_count": 243,
   "id": "d8764453",
   "metadata": {},
   "outputs": [
    {
     "data": {
      "text/html": [
       "<div>\n",
       "<style scoped>\n",
       "    .dataframe tbody tr th:only-of-type {\n",
       "        vertical-align: middle;\n",
       "    }\n",
       "\n",
       "    .dataframe tbody tr th {\n",
       "        vertical-align: top;\n",
       "    }\n",
       "\n",
       "    .dataframe thead th {\n",
       "        text-align: right;\n",
       "    }\n",
       "</style>\n",
       "<table border=\"1\" class=\"dataframe\">\n",
       "  <thead>\n",
       "    <tr style=\"text-align: right;\">\n",
       "      <th></th>\n",
       "      <th>salad_title</th>\n",
       "      <th>prep_time</th>\n",
       "      <th>n_star</th>\n",
       "      <th>n_review</th>\n",
       "      <th>Calories</th>\n",
       "      <th>Total Fat</th>\n",
       "      <th>Saturated Fat</th>\n",
       "      <th>Carbohydrates</th>\n",
       "      <th>Dietary Fiber</th>\n",
       "      <th>Sugar</th>\n",
       "      <th>Protein</th>\n",
       "      <th>Cholesterol</th>\n",
       "      <th>Sodium</th>\n",
       "    </tr>\n",
       "  </thead>\n",
       "  <tbody>\n",
       "    <tr>\n",
       "      <th>0</th>\n",
       "      <td>Antipasto Salad</td>\n",
       "      <td>35</td>\n",
       "      <td>5.0</td>\n",
       "      <td>190</td>\n",
       "      <td>['647 ']</td>\n",
       "      <td>['37 g']</td>\n",
       "      <td>['8 g']</td>\n",
       "      <td>['58 g']</td>\n",
       "      <td>['3 g']</td>\n",
       "      <td>['2 g']</td>\n",
       "      <td>['20 g']</td>\n",
       "      <td>['34 mg']</td>\n",
       "      <td>['433 mg']</td>\n",
       "    </tr>\n",
       "    <tr>\n",
       "      <th>1</th>\n",
       "      <td>Shrimp Salad</td>\n",
       "      <td>30</td>\n",
       "      <td>5.0</td>\n",
       "      <td>175</td>\n",
       "      <td>['407 ']</td>\n",
       "      <td>['31 g']</td>\n",
       "      <td>['5 g']</td>\n",
       "      <td>['2 g']</td>\n",
       "      <td>['1 g']</td>\n",
       "      <td>['1 g']</td>\n",
       "      <td>['31 g']</td>\n",
       "      <td>['258 mg']</td>\n",
       "      <td>['536 mg']</td>\n",
       "    </tr>\n",
       "    <tr>\n",
       "      <th>2</th>\n",
       "      <td>Chicken Salad</td>\n",
       "      <td>30</td>\n",
       "      <td>4.5</td>\n",
       "      <td>277</td>\n",
       "      <td>['1134 ']</td>\n",
       "      <td>['80 g']</td>\n",
       "      <td>['17 g']</td>\n",
       "      <td>['19 g']</td>\n",
       "      <td>['2 g']</td>\n",
       "      <td>['7 g']</td>\n",
       "      <td>['80 g']</td>\n",
       "      <td>['250 mg']</td>\n",
       "      <td>['1870 mg']</td>\n",
       "    </tr>\n",
       "  </tbody>\n",
       "</table>\n",
       "</div>"
      ],
      "text/plain": [
       "       salad_title  prep_time  n_star  n_review   Calories Total Fat  \\\n",
       "0  Antipasto Salad         35     5.0       190   ['647 ']  ['37 g']   \n",
       "1     Shrimp Salad         30     5.0       175   ['407 ']  ['31 g']   \n",
       "2    Chicken Salad         30     4.5       277  ['1134 ']  ['80 g']   \n",
       "\n",
       "  Saturated Fat Carbohydrates Dietary Fiber    Sugar   Protein Cholesterol  \\\n",
       "0       ['8 g']      ['58 g']       ['3 g']  ['2 g']  ['20 g']   ['34 mg']   \n",
       "1       ['5 g']       ['2 g']       ['1 g']  ['1 g']  ['31 g']  ['258 mg']   \n",
       "2      ['17 g']      ['19 g']       ['2 g']  ['7 g']  ['80 g']  ['250 mg']   \n",
       "\n",
       "        Sodium  \n",
       "0   ['433 mg']  \n",
       "1   ['536 mg']  \n",
       "2  ['1870 mg']  "
      ]
     },
     "execution_count": 243,
     "metadata": {},
     "output_type": "execute_result"
    }
   ],
   "source": [
    "data.head(3)"
   ]
  },
  {
   "cell_type": "code",
   "execution_count": 244,
   "id": "b5699867",
   "metadata": {},
   "outputs": [],
   "source": [
    "# let's remove [] '' from the entire data\n",
    "data = data.apply(lambda x: x.str.replace('[','').str.replace(']','').str.replace(\"'\",\"\") if x.dtype =='object' else x)"
   ]
  },
  {
   "cell_type": "code",
   "execution_count": 245,
   "id": "452f47aa",
   "metadata": {},
   "outputs": [
    {
     "data": {
      "text/html": [
       "<div>\n",
       "<style scoped>\n",
       "    .dataframe tbody tr th:only-of-type {\n",
       "        vertical-align: middle;\n",
       "    }\n",
       "\n",
       "    .dataframe tbody tr th {\n",
       "        vertical-align: top;\n",
       "    }\n",
       "\n",
       "    .dataframe thead th {\n",
       "        text-align: right;\n",
       "    }\n",
       "</style>\n",
       "<table border=\"1\" class=\"dataframe\">\n",
       "  <thead>\n",
       "    <tr style=\"text-align: right;\">\n",
       "      <th></th>\n",
       "      <th>salad_title</th>\n",
       "      <th>prep_time</th>\n",
       "      <th>n_star</th>\n",
       "      <th>n_review</th>\n",
       "      <th>Calories</th>\n",
       "      <th>Total Fat</th>\n",
       "      <th>Saturated Fat</th>\n",
       "      <th>Carbohydrates</th>\n",
       "      <th>Dietary Fiber</th>\n",
       "      <th>Sugar</th>\n",
       "      <th>Protein</th>\n",
       "      <th>Cholesterol</th>\n",
       "      <th>Sodium</th>\n",
       "    </tr>\n",
       "  </thead>\n",
       "  <tbody>\n",
       "    <tr>\n",
       "      <th>0</th>\n",
       "      <td>Antipasto Salad</td>\n",
       "      <td>35</td>\n",
       "      <td>5.0</td>\n",
       "      <td>190</td>\n",
       "      <td>647</td>\n",
       "      <td>37 g</td>\n",
       "      <td>8 g</td>\n",
       "      <td>58 g</td>\n",
       "      <td>3 g</td>\n",
       "      <td>2 g</td>\n",
       "      <td>20 g</td>\n",
       "      <td>34 mg</td>\n",
       "      <td>433 mg</td>\n",
       "    </tr>\n",
       "    <tr>\n",
       "      <th>1</th>\n",
       "      <td>Shrimp Salad</td>\n",
       "      <td>30</td>\n",
       "      <td>5.0</td>\n",
       "      <td>175</td>\n",
       "      <td>407</td>\n",
       "      <td>31 g</td>\n",
       "      <td>5 g</td>\n",
       "      <td>2 g</td>\n",
       "      <td>1 g</td>\n",
       "      <td>1 g</td>\n",
       "      <td>31 g</td>\n",
       "      <td>258 mg</td>\n",
       "      <td>536 mg</td>\n",
       "    </tr>\n",
       "    <tr>\n",
       "      <th>2</th>\n",
       "      <td>Chicken Salad</td>\n",
       "      <td>30</td>\n",
       "      <td>4.5</td>\n",
       "      <td>277</td>\n",
       "      <td>1134</td>\n",
       "      <td>80 g</td>\n",
       "      <td>17 g</td>\n",
       "      <td>19 g</td>\n",
       "      <td>2 g</td>\n",
       "      <td>7 g</td>\n",
       "      <td>80 g</td>\n",
       "      <td>250 mg</td>\n",
       "      <td>1870 mg</td>\n",
       "    </tr>\n",
       "  </tbody>\n",
       "</table>\n",
       "</div>"
      ],
      "text/plain": [
       "       salad_title  prep_time  n_star  n_review Calories Total Fat  \\\n",
       "0  Antipasto Salad         35     5.0       190     647       37 g   \n",
       "1     Shrimp Salad         30     5.0       175     407       31 g   \n",
       "2    Chicken Salad         30     4.5       277    1134       80 g   \n",
       "\n",
       "  Saturated Fat Carbohydrates Dietary Fiber Sugar Protein Cholesterol   Sodium  \n",
       "0           8 g          58 g           3 g   2 g    20 g       34 mg   433 mg  \n",
       "1           5 g           2 g           1 g   1 g    31 g      258 mg   536 mg  \n",
       "2          17 g          19 g           2 g   7 g    80 g      250 mg  1870 mg  "
      ]
     },
     "execution_count": 245,
     "metadata": {},
     "output_type": "execute_result"
    }
   ],
   "source": [
    "data.head(3)"
   ]
  },
  {
   "cell_type": "code",
   "execution_count": 246,
   "id": "bc57a9d8",
   "metadata": {},
   "outputs": [
    {
     "data": {
      "text/html": [
       "<div>\n",
       "<style scoped>\n",
       "    .dataframe tbody tr th:only-of-type {\n",
       "        vertical-align: middle;\n",
       "    }\n",
       "\n",
       "    .dataframe tbody tr th {\n",
       "        vertical-align: top;\n",
       "    }\n",
       "\n",
       "    .dataframe thead th {\n",
       "        text-align: right;\n",
       "    }\n",
       "</style>\n",
       "<table border=\"1\" class=\"dataframe\">\n",
       "  <thead>\n",
       "    <tr style=\"text-align: right;\">\n",
       "      <th></th>\n",
       "      <th>salad_title</th>\n",
       "      <th>prep_time</th>\n",
       "      <th>n_star</th>\n",
       "      <th>n_review</th>\n",
       "      <th>Calories</th>\n",
       "      <th>Total Fat</th>\n",
       "      <th>Saturated Fat</th>\n",
       "      <th>Carbohydrates</th>\n",
       "      <th>Dietary Fiber</th>\n",
       "      <th>Sugar</th>\n",
       "      <th>Protein</th>\n",
       "      <th>Cholesterol</th>\n",
       "      <th>Sodium</th>\n",
       "    </tr>\n",
       "  </thead>\n",
       "  <tbody>\n",
       "    <tr>\n",
       "      <th>21</th>\n",
       "      <td>New Potato Salad</td>\n",
       "      <td>240</td>\n",
       "      <td>5.0</td>\n",
       "      <td>133</td>\n",
       "      <td>NaN</td>\n",
       "      <td>NaN</td>\n",
       "      <td>NaN</td>\n",
       "      <td>NaN</td>\n",
       "      <td>NaN</td>\n",
       "      <td>NaN</td>\n",
       "      <td>NaN</td>\n",
       "      <td>NaN</td>\n",
       "      <td>NaN</td>\n",
       "    </tr>\n",
       "    <tr>\n",
       "      <th>63</th>\n",
       "      <td>Vinaigrette For Green Salad</td>\n",
       "      <td>15</td>\n",
       "      <td>5.0</td>\n",
       "      <td>137</td>\n",
       "      <td>NaN</td>\n",
       "      <td>NaN</td>\n",
       "      <td>NaN</td>\n",
       "      <td>NaN</td>\n",
       "      <td>NaN</td>\n",
       "      <td>NaN</td>\n",
       "      <td>NaN</td>\n",
       "      <td>NaN</td>\n",
       "      <td>NaN</td>\n",
       "    </tr>\n",
       "    <tr>\n",
       "      <th>90</th>\n",
       "      <td>Big Steak Salad</td>\n",
       "      <td>35</td>\n",
       "      <td>5.0</td>\n",
       "      <td>61</td>\n",
       "      <td>NaN</td>\n",
       "      <td>NaN</td>\n",
       "      <td>NaN</td>\n",
       "      <td>NaN</td>\n",
       "      <td>NaN</td>\n",
       "      <td>NaN</td>\n",
       "      <td>NaN</td>\n",
       "      <td>NaN</td>\n",
       "      <td>NaN</td>\n",
       "    </tr>\n",
       "    <tr>\n",
       "      <th>128</th>\n",
       "      <td>Chilled Asparagus Salad</td>\n",
       "      <td>75</td>\n",
       "      <td>5.0</td>\n",
       "      <td>46</td>\n",
       "      <td>NaN</td>\n",
       "      <td>NaN</td>\n",
       "      <td>NaN</td>\n",
       "      <td>NaN</td>\n",
       "      <td>NaN</td>\n",
       "      <td>NaN</td>\n",
       "      <td>NaN</td>\n",
       "      <td>NaN</td>\n",
       "      <td>NaN</td>\n",
       "    </tr>\n",
       "    <tr>\n",
       "      <th>153</th>\n",
       "      <td>Cucumber Salad</td>\n",
       "      <td>0</td>\n",
       "      <td>4.5</td>\n",
       "      <td>38</td>\n",
       "      <td>NaN</td>\n",
       "      <td>NaN</td>\n",
       "      <td>NaN</td>\n",
       "      <td>NaN</td>\n",
       "      <td>NaN</td>\n",
       "      <td>NaN</td>\n",
       "      <td>NaN</td>\n",
       "      <td>NaN</td>\n",
       "      <td>NaN</td>\n",
       "    </tr>\n",
       "    <tr>\n",
       "      <th>161</th>\n",
       "      <td>Buffalo Chicken Salad</td>\n",
       "      <td>35</td>\n",
       "      <td>5.0</td>\n",
       "      <td>33</td>\n",
       "      <td>NaN</td>\n",
       "      <td>NaN</td>\n",
       "      <td>NaN</td>\n",
       "      <td>NaN</td>\n",
       "      <td>NaN</td>\n",
       "      <td>NaN</td>\n",
       "      <td>NaN</td>\n",
       "      <td>NaN</td>\n",
       "      <td>NaN</td>\n",
       "    </tr>\n",
       "    <tr>\n",
       "      <th>178</th>\n",
       "      <td>Avocado Salad</td>\n",
       "      <td>15</td>\n",
       "      <td>5.0</td>\n",
       "      <td>21</td>\n",
       "      <td>NaN</td>\n",
       "      <td>NaN</td>\n",
       "      <td>NaN</td>\n",
       "      <td>NaN</td>\n",
       "      <td>NaN</td>\n",
       "      <td>NaN</td>\n",
       "      <td>NaN</td>\n",
       "      <td>NaN</td>\n",
       "      <td>NaN</td>\n",
       "    </tr>\n",
       "  </tbody>\n",
       "</table>\n",
       "</div>"
      ],
      "text/plain": [
       "                     salad_title  prep_time  n_star  n_review Calories  \\\n",
       "21              New Potato Salad        240     5.0       133      NaN   \n",
       "63   Vinaigrette For Green Salad         15     5.0       137      NaN   \n",
       "90               Big Steak Salad         35     5.0        61      NaN   \n",
       "128      Chilled Asparagus Salad         75     5.0        46      NaN   \n",
       "153               Cucumber Salad          0     4.5        38      NaN   \n",
       "161        Buffalo Chicken Salad         35     5.0        33      NaN   \n",
       "178                Avocado Salad         15     5.0        21      NaN   \n",
       "\n",
       "    Total Fat Saturated Fat Carbohydrates Dietary Fiber Sugar Protein  \\\n",
       "21        NaN           NaN           NaN           NaN   NaN     NaN   \n",
       "63        NaN           NaN           NaN           NaN   NaN     NaN   \n",
       "90        NaN           NaN           NaN           NaN   NaN     NaN   \n",
       "128       NaN           NaN           NaN           NaN   NaN     NaN   \n",
       "153       NaN           NaN           NaN           NaN   NaN     NaN   \n",
       "161       NaN           NaN           NaN           NaN   NaN     NaN   \n",
       "178       NaN           NaN           NaN           NaN   NaN     NaN   \n",
       "\n",
       "    Cholesterol Sodium  \n",
       "21          NaN    NaN  \n",
       "63          NaN    NaN  \n",
       "90          NaN    NaN  \n",
       "128         NaN    NaN  \n",
       "153         NaN    NaN  \n",
       "161         NaN    NaN  \n",
       "178         NaN    NaN  "
      ]
     },
     "execution_count": 246,
     "metadata": {},
     "output_type": "execute_result"
    }
   ],
   "source": [
    "data[data.isnull().any(axis=1)]"
   ]
  },
  {
   "cell_type": "code",
   "execution_count": 247,
   "id": "83a7a132",
   "metadata": {},
   "outputs": [],
   "source": [
    "data = data.dropna()"
   ]
  },
  {
   "cell_type": "code",
   "execution_count": 248,
   "id": "310628d1",
   "metadata": {},
   "outputs": [
    {
     "data": {
      "text/html": [
       "<div>\n",
       "<style scoped>\n",
       "    .dataframe tbody tr th:only-of-type {\n",
       "        vertical-align: middle;\n",
       "    }\n",
       "\n",
       "    .dataframe tbody tr th {\n",
       "        vertical-align: top;\n",
       "    }\n",
       "\n",
       "    .dataframe thead th {\n",
       "        text-align: right;\n",
       "    }\n",
       "</style>\n",
       "<table border=\"1\" class=\"dataframe\">\n",
       "  <thead>\n",
       "    <tr style=\"text-align: right;\">\n",
       "      <th></th>\n",
       "      <th>salad_title</th>\n",
       "      <th>prep_time</th>\n",
       "      <th>n_star</th>\n",
       "      <th>n_review</th>\n",
       "      <th>Calories</th>\n",
       "      <th>Total Fat</th>\n",
       "      <th>Saturated Fat</th>\n",
       "      <th>Carbohydrates</th>\n",
       "      <th>Dietary Fiber</th>\n",
       "      <th>Sugar</th>\n",
       "      <th>Protein</th>\n",
       "      <th>Cholesterol</th>\n",
       "      <th>Sodium</th>\n",
       "    </tr>\n",
       "  </thead>\n",
       "  <tbody>\n",
       "    <tr>\n",
       "      <th>44</th>\n",
       "      <td>Chicken Salad Contessa</td>\n",
       "      <td>0</td>\n",
       "      <td>4.5</td>\n",
       "      <td>188</td>\n",
       "      <td>1420</td>\n",
       "      <td>110 g</td>\n",
       "      <td>19 g</td>\n",
       "      <td>26 g</td>\n",
       "      <td>6 g</td>\n",
       "      <td>15 g</td>\n",
       "      <td>86 g</td>\n",
       "      <td>305 mg</td>\n",
       "      <td>1393 mg</td>\n",
       "    </tr>\n",
       "    <tr>\n",
       "      <th>93</th>\n",
       "      <td>Cape Cod Chopped Salad</td>\n",
       "      <td>0</td>\n",
       "      <td>5.0</td>\n",
       "      <td>121</td>\n",
       "      <td>749</td>\n",
       "      <td>65 g</td>\n",
       "      <td>17 g</td>\n",
       "      <td>29 g</td>\n",
       "      <td>4 g</td>\n",
       "      <td>22 g</td>\n",
       "      <td>17 g</td>\n",
       "      <td>61 mg</td>\n",
       "      <td>1000 mg</td>\n",
       "    </tr>\n",
       "    <tr>\n",
       "      <th>107</th>\n",
       "      <td>Arugula, Watermelon and Feta Salad</td>\n",
       "      <td>0</td>\n",
       "      <td>5.0</td>\n",
       "      <td>148</td>\n",
       "      <td>685</td>\n",
       "      <td>47 g</td>\n",
       "      <td>15 g</td>\n",
       "      <td>58 g</td>\n",
       "      <td>5 g</td>\n",
       "      <td>42 g</td>\n",
       "      <td>17 g</td>\n",
       "      <td>76 mg</td>\n",
       "      <td>1460 mg</td>\n",
       "    </tr>\n",
       "    <tr>\n",
       "      <th>139</th>\n",
       "      <td>Barefoot Carrot Salad</td>\n",
       "      <td>0</td>\n",
       "      <td>4.5</td>\n",
       "      <td>87</td>\n",
       "      <td>341</td>\n",
       "      <td>19 g</td>\n",
       "      <td>4 g</td>\n",
       "      <td>44 g</td>\n",
       "      <td>5 g</td>\n",
       "      <td>33 g</td>\n",
       "      <td>3 g</td>\n",
       "      <td>19 mg</td>\n",
       "      <td>574 mg</td>\n",
       "    </tr>\n",
       "  </tbody>\n",
       "</table>\n",
       "</div>"
      ],
      "text/plain": [
       "                            salad_title  prep_time  n_star  n_review Calories  \\\n",
       "44               Chicken Salad Contessa          0     4.5       188    1420    \n",
       "93               Cape Cod Chopped Salad          0     5.0       121     749    \n",
       "107  Arugula, Watermelon and Feta Salad          0     5.0       148     685    \n",
       "139               Barefoot Carrot Salad          0     4.5        87     341    \n",
       "\n",
       "    Total Fat Saturated Fat Carbohydrates Dietary Fiber Sugar Protein  \\\n",
       "44      110 g          19 g          26 g           6 g  15 g    86 g   \n",
       "93       65 g          17 g          29 g           4 g  22 g    17 g   \n",
       "107      47 g          15 g          58 g           5 g  42 g    17 g   \n",
       "139      19 g           4 g          44 g           5 g  33 g     3 g   \n",
       "\n",
       "    Cholesterol   Sodium  \n",
       "44       305 mg  1393 mg  \n",
       "93        61 mg  1000 mg  \n",
       "107       76 mg  1460 mg  \n",
       "139       19 mg   574 mg  "
      ]
     },
     "execution_count": 248,
     "metadata": {},
     "output_type": "execute_result"
    }
   ],
   "source": [
    "data[data['prep_time']==0]"
   ]
  },
  {
   "cell_type": "markdown",
   "id": "570ca224",
   "metadata": {},
   "source": [
    "There are 4 missing values in the preparation time column. Let's fill them in."
   ]
  },
  {
   "cell_type": "code",
   "execution_count": 249,
   "id": "b92e4ec6",
   "metadata": {},
   "outputs": [],
   "source": [
    "# let's create a temporary dataset without those salads\n",
    "temp_data = data.drop([44,93,107,139])"
   ]
  },
  {
   "cell_type": "code",
   "execution_count": 250,
   "id": "4d049a9e",
   "metadata": {},
   "outputs": [
    {
     "data": {
      "text/plain": [
       "count    216.000000\n",
       "mean      46.310185\n",
       "std       56.090302\n",
       "min        5.000000\n",
       "25%       20.000000\n",
       "50%       30.000000\n",
       "75%       50.000000\n",
       "max      490.000000\n",
       "Name: prep_time, dtype: float64"
      ]
     },
     "execution_count": 250,
     "metadata": {},
     "output_type": "execute_result"
    }
   ],
   "source": [
    "temp_data['prep_time'].describe()"
   ]
  },
  {
   "cell_type": "code",
   "execution_count": 251,
   "id": "0da3f634",
   "metadata": {},
   "outputs": [
    {
     "data": {
      "text/plain": [
       "count     20.000000\n",
       "mean      57.650000\n",
       "std       38.788597\n",
       "min       16.000000\n",
       "25%       33.000000\n",
       "50%       52.500000\n",
       "75%       71.250000\n",
       "max      195.000000\n",
       "Name: prep_time, dtype: float64"
      ]
     },
     "execution_count": 251,
     "metadata": {},
     "output_type": "execute_result"
    }
   ],
   "source": [
    "chicken = temp_data[temp_data['salad_title'].str.contains('chicken', case = False)]\n",
    "chicken.prep_time.describe()"
   ]
  },
  {
   "cell_type": "markdown",
   "id": "191747a7",
   "metadata": {},
   "source": [
    "Salads with 'chicken' in the title take, on average, 12 minutes longer to prepare.\n",
    "\n",
    "Let's fill each missing salad preparation time based on whether 'chicken' is present in the title.\n",
    "\n"
   ]
  },
  {
   "cell_type": "code",
   "execution_count": 252,
   "id": "10c5b32d",
   "metadata": {},
   "outputs": [],
   "source": [
    "data.loc[data['salad_title']=='Chicken Salad Contessa','prep_time'] =58\n",
    "data.loc[data.index.isin([93, 107, 139]), 'prep_time'] = 47"
   ]
  },
  {
   "cell_type": "code",
   "execution_count": 253,
   "id": "77b347ca",
   "metadata": {},
   "outputs": [
    {
     "data": {
      "text/plain": [
       "0            433 mg\n",
       "1            536 mg\n",
       "2           1870 mg\n",
       "3            292 mg\n",
       "4      103 calorie \n",
       "           ...     \n",
       "225         1110 mg\n",
       "226          843 mg\n",
       "227          252 mg\n",
       "228          257 mg\n",
       "229          234 mg\n",
       "Name: Sodium, Length: 220, dtype: object"
      ]
     },
     "execution_count": 253,
     "metadata": {},
     "output_type": "execute_result"
    }
   ],
   "source": [
    "# we have misslabeling issues, some Sodium values contains calories.\n",
    "data['Sodium']"
   ]
  },
  {
   "cell_type": "code",
   "execution_count": 254,
   "id": "07745024",
   "metadata": {},
   "outputs": [
    {
     "data": {
      "text/plain": [
       "0           647 \n",
       "1           407 \n",
       "2          1134 \n",
       "3           316 \n",
       "4      10 grams \n",
       "         ...    \n",
       "225         954 \n",
       "226         163 \n",
       "227         127 \n",
       "228         303 \n",
       "229         165 \n",
       "Name: Calories, Length: 220, dtype: object"
      ]
     },
     "execution_count": 254,
     "metadata": {},
     "output_type": "execute_result"
    }
   ],
   "source": [
    "data['Calories']"
   ]
  },
  {
   "cell_type": "code",
   "execution_count": 255,
   "id": "e53a4d29",
   "metadata": {},
   "outputs": [],
   "source": [
    "# let's create a function that shifts values\n",
    "def shift_values(row):\n",
    "    cal_parts = row['Calories'].split()\n",
    "    sodium_parts = row['Sodium'].split()\n",
    "    if len(cal_parts) > 1 and len(sodium_parts) > 1:\n",
    "\n",
    "        if 'g' in cal_parts[1].lower() and 'c' in sodium_parts[1].lower():\n",
    "            row['Calories'], row['Sodium'] = row['Sodium'], row['Calories']\n",
    "    return row"
   ]
  },
  {
   "cell_type": "code",
   "execution_count": 256,
   "id": "9fdfbd82",
   "metadata": {},
   "outputs": [],
   "source": [
    "data = data.apply(shift_values, axis = 1)"
   ]
  },
  {
   "cell_type": "code",
   "execution_count": 257,
   "id": "909c9dc7",
   "metadata": {},
   "outputs": [
    {
     "data": {
      "text/html": [
       "<div>\n",
       "<style scoped>\n",
       "    .dataframe tbody tr th:only-of-type {\n",
       "        vertical-align: middle;\n",
       "    }\n",
       "\n",
       "    .dataframe tbody tr th {\n",
       "        vertical-align: top;\n",
       "    }\n",
       "\n",
       "    .dataframe thead th {\n",
       "        text-align: right;\n",
       "    }\n",
       "</style>\n",
       "<table border=\"1\" class=\"dataframe\">\n",
       "  <thead>\n",
       "    <tr style=\"text-align: right;\">\n",
       "      <th></th>\n",
       "      <th>salad_title</th>\n",
       "      <th>prep_time</th>\n",
       "      <th>n_star</th>\n",
       "      <th>n_review</th>\n",
       "      <th>Calories</th>\n",
       "      <th>Total Fat</th>\n",
       "      <th>Saturated Fat</th>\n",
       "      <th>Carbohydrates</th>\n",
       "      <th>Dietary Fiber</th>\n",
       "      <th>Sugar</th>\n",
       "      <th>Protein</th>\n",
       "      <th>Cholesterol</th>\n",
       "      <th>Sodium</th>\n",
       "    </tr>\n",
       "  </thead>\n",
       "  <tbody>\n",
       "    <tr>\n",
       "      <th>0</th>\n",
       "      <td>Antipasto Salad</td>\n",
       "      <td>35</td>\n",
       "      <td>5.0</td>\n",
       "      <td>190</td>\n",
       "      <td>647</td>\n",
       "      <td>37 g</td>\n",
       "      <td>8 g</td>\n",
       "      <td>58 g</td>\n",
       "      <td>3 g</td>\n",
       "      <td>2 g</td>\n",
       "      <td>20 g</td>\n",
       "      <td>34 mg</td>\n",
       "      <td>433 mg</td>\n",
       "    </tr>\n",
       "    <tr>\n",
       "      <th>1</th>\n",
       "      <td>Shrimp Salad</td>\n",
       "      <td>30</td>\n",
       "      <td>5.0</td>\n",
       "      <td>175</td>\n",
       "      <td>407</td>\n",
       "      <td>31 g</td>\n",
       "      <td>5 g</td>\n",
       "      <td>2 g</td>\n",
       "      <td>1 g</td>\n",
       "      <td>1 g</td>\n",
       "      <td>31 g</td>\n",
       "      <td>258 mg</td>\n",
       "      <td>536 mg</td>\n",
       "    </tr>\n",
       "    <tr>\n",
       "      <th>2</th>\n",
       "      <td>Chicken Salad</td>\n",
       "      <td>30</td>\n",
       "      <td>4.5</td>\n",
       "      <td>277</td>\n",
       "      <td>1134</td>\n",
       "      <td>80 g</td>\n",
       "      <td>17 g</td>\n",
       "      <td>19 g</td>\n",
       "      <td>2 g</td>\n",
       "      <td>7 g</td>\n",
       "      <td>80 g</td>\n",
       "      <td>250 mg</td>\n",
       "      <td>1870 mg</td>\n",
       "    </tr>\n",
       "    <tr>\n",
       "      <th>3</th>\n",
       "      <td>Broccoli Salad</td>\n",
       "      <td>75</td>\n",
       "      <td>5.0</td>\n",
       "      <td>170</td>\n",
       "      <td>316</td>\n",
       "      <td>27 g</td>\n",
       "      <td>6 g</td>\n",
       "      <td>16 g</td>\n",
       "      <td>0 g</td>\n",
       "      <td>12 g</td>\n",
       "      <td>4 g</td>\n",
       "      <td>24 mg</td>\n",
       "      <td>292 mg</td>\n",
       "    </tr>\n",
       "    <tr>\n",
       "      <th>4</th>\n",
       "      <td>Cafe Green Salad</td>\n",
       "      <td>10</td>\n",
       "      <td>5.0</td>\n",
       "      <td>297</td>\n",
       "      <td>103 calorie</td>\n",
       "      <td>1.5 grams</td>\n",
       "      <td>0 milligrams</td>\n",
       "      <td>156 milligrams</td>\n",
       "      <td>2 grams</td>\n",
       "      <td>1 grams</td>\n",
       "      <td>1 grams</td>\n",
       "      <td>1 grams</td>\n",
       "      <td>10 grams</td>\n",
       "    </tr>\n",
       "  </tbody>\n",
       "</table>\n",
       "</div>"
      ],
      "text/plain": [
       "        salad_title  prep_time  n_star  n_review      Calories   Total Fat  \\\n",
       "0   Antipasto Salad         35     5.0       190          647         37 g   \n",
       "1      Shrimp Salad         30     5.0       175          407         31 g   \n",
       "2     Chicken Salad         30     4.5       277         1134         80 g   \n",
       "3    Broccoli Salad         75     5.0       170          316         27 g   \n",
       "4  Cafe Green Salad         10     5.0       297  103 calorie   1.5 grams    \n",
       "\n",
       "   Saturated Fat    Carbohydrates Dietary Fiber     Sugar   Protein  \\\n",
       "0            8 g             58 g           3 g       2 g      20 g   \n",
       "1            5 g              2 g           1 g       1 g      31 g   \n",
       "2           17 g             19 g           2 g       7 g      80 g   \n",
       "3            6 g             16 g           0 g      12 g       4 g   \n",
       "4  0 milligrams   156 milligrams       2 grams   1 grams   1 grams    \n",
       "\n",
       "  Cholesterol     Sodium  \n",
       "0       34 mg     433 mg  \n",
       "1      258 mg     536 mg  \n",
       "2      250 mg    1870 mg  \n",
       "3       24 mg     292 mg  \n",
       "4    1 grams   10 grams   "
      ]
     },
     "execution_count": 257,
     "metadata": {},
     "output_type": "execute_result"
    }
   ],
   "source": [
    "data.head()"
   ]
  },
  {
   "cell_type": "code",
   "execution_count": 258,
   "id": "9ad05715",
   "metadata": {},
   "outputs": [],
   "source": [
    "data['Calories'] = data['Calories'].str.split().str[0].astype('float').astype('int')\n"
   ]
  },
  {
   "cell_type": "markdown",
   "id": "d30f5630",
   "metadata": {},
   "source": [
    "we are soo close, we have to fix the unit know, since we have differents units like mg and g"
   ]
  },
  {
   "cell_type": "code",
   "execution_count": 259,
   "id": "100432ea",
   "metadata": {},
   "outputs": [],
   "source": [
    "def fixing_unit(value):\n",
    "    parts = value.split()\n",
    "    if len(parts) ==2 and (parts[1].lower() == 'g' or parts[1].lower()=='gram' or parts[1].lower()=='grams'):\n",
    "        return \"{:.1f}\".format(float(parts[0]))\n",
    "    else:\n",
    "        return \"{:.1f}\".format(float(parts[0]) * 0.001)"
   ]
  },
  {
   "cell_type": "code",
   "execution_count": 260,
   "id": "3271e934",
   "metadata": {},
   "outputs": [
    {
     "name": "stdout",
     "output_type": "stream",
     "text": [
      "<class 'pandas.core.frame.DataFrame'>\n",
      "Index: 220 entries, 0 to 229\n",
      "Data columns (total 13 columns):\n",
      " #   Column         Non-Null Count  Dtype  \n",
      "---  ------         --------------  -----  \n",
      " 0   salad_title    220 non-null    object \n",
      " 1   prep_time      220 non-null    int64  \n",
      " 2   n_star         220 non-null    float64\n",
      " 3   n_review       220 non-null    int64  \n",
      " 4   Calories       220 non-null    int32  \n",
      " 5   Total Fat      220 non-null    object \n",
      " 6   Saturated Fat  220 non-null    object \n",
      " 7   Carbohydrates  220 non-null    object \n",
      " 8   Dietary Fiber  220 non-null    object \n",
      " 9   Sugar          220 non-null    object \n",
      " 10  Protein        220 non-null    object \n",
      " 11  Cholesterol    220 non-null    object \n",
      " 12  Sodium         220 non-null    object \n",
      "dtypes: float64(1), int32(1), int64(2), object(9)\n",
      "memory usage: 31.3+ KB\n"
     ]
    }
   ],
   "source": [
    "data.info()"
   ]
  },
  {
   "cell_type": "code",
   "execution_count": 261,
   "id": "e990fcd2",
   "metadata": {},
   "outputs": [],
   "source": [
    "columns = ['Total Fat','Saturated Fat','Carbohydrates','Dietary Fiber','Sugar','Protein','Cholesterol','Sodium']\n",
    "\n",
    "for column in columns:\n",
    "    data[column]=data[column].apply(fixing_unit).astype('float')"
   ]
  },
  {
   "cell_type": "code",
   "execution_count": 262,
   "id": "bf3e56e5",
   "metadata": {},
   "outputs": [
    {
     "name": "stdout",
     "output_type": "stream",
     "text": [
      "<class 'pandas.core.frame.DataFrame'>\n",
      "Index: 220 entries, 0 to 229\n",
      "Data columns (total 13 columns):\n",
      " #   Column         Non-Null Count  Dtype  \n",
      "---  ------         --------------  -----  \n",
      " 0   salad_title    220 non-null    object \n",
      " 1   prep_time      220 non-null    int64  \n",
      " 2   n_star         220 non-null    float64\n",
      " 3   n_review       220 non-null    int64  \n",
      " 4   Calories       220 non-null    int32  \n",
      " 5   Total Fat      220 non-null    float64\n",
      " 6   Saturated Fat  220 non-null    float64\n",
      " 7   Carbohydrates  220 non-null    float64\n",
      " 8   Dietary Fiber  220 non-null    float64\n",
      " 9   Sugar          220 non-null    float64\n",
      " 10  Protein        220 non-null    float64\n",
      " 11  Cholesterol    220 non-null    float64\n",
      " 12  Sodium         220 non-null    float64\n",
      "dtypes: float64(9), int32(1), int64(2), object(1)\n",
      "memory usage: 31.3+ KB\n"
     ]
    }
   ],
   "source": [
    "data.info()"
   ]
  },
  {
   "cell_type": "code",
   "execution_count": 263,
   "id": "092bec7f",
   "metadata": {},
   "outputs": [],
   "source": [
    "#let's save the data into a csv file\n",
    "data.to_csv('cleaned_salad_data.csv', index=False)"
   ]
  }
 ],
 "metadata": {
  "kernelspec": {
   "display_name": "Python 3 (ipykernel)",
   "language": "python",
   "name": "python3"
  },
  "language_info": {
   "codemirror_mode": {
    "name": "ipython",
    "version": 3
   },
   "file_extension": ".py",
   "mimetype": "text/x-python",
   "name": "python",
   "nbconvert_exporter": "python",
   "pygments_lexer": "ipython3",
   "version": "3.11.5"
  }
 },
 "nbformat": 4,
 "nbformat_minor": 5
}
